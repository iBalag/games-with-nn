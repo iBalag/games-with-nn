{
  "nbformat": 4,
  "nbformat_minor": 0,
  "metadata": {
    "colab": {
      "name": "digit-recognizer-cnn.ipynb",
      "version": "0.3.2",
      "provenance": [],
      "include_colab_link": true
    },
    "kernelspec": {
      "name": "python3",
      "display_name": "Python 3"
    },
    "accelerator": "GPU"
  },
  "cells": [
    {
      "cell_type": "markdown",
      "metadata": {
        "id": "view-in-github",
        "colab_type": "text"
      },
      "source": [
        "<a href=\"https://colab.research.google.com/github/iBalag/games-with-nn/blob/master/digit_recognizer_cnn.ipynb\" target=\"_parent\"><img src=\"https://colab.research.google.com/assets/colab-badge.svg\" alt=\"Open In Colab\"/></a>"
      ]
    },
    {
      "cell_type": "code",
      "metadata": {
        "id": "lwNh7RMi6ttX",
        "colab_type": "code",
        "colab": {}
      },
      "source": [
        "from google.colab import drive\n",
        "drive.mount('/gdrive')"
      ],
      "execution_count": 0,
      "outputs": []
    },
    {
      "cell_type": "code",
      "metadata": {
        "id": "UeWOoKYv7AWL",
        "colab_type": "code",
        "colab": {}
      },
      "source": [
        "import pandas as pd\n",
        "\n",
        "data = pd.read_csv(\"/gdrive/My Drive/data/digit-recognizer/train.csv\")"
      ],
      "execution_count": 0,
      "outputs": []
    },
    {
      "cell_type": "code",
      "metadata": {
        "id": "PA4dBBXY7B-J",
        "colab_type": "code",
        "colab": {}
      },
      "source": [
        "data_copy = data.copy()\n",
        "\n",
        "X = data_copy.drop(\"label\", axis=1)\n",
        "y = data[\"label\"]\n",
        "\n",
        "# Normalize\n",
        "X = X  / 255"
      ],
      "execution_count": 0,
      "outputs": []
    },
    {
      "cell_type": "code",
      "metadata": {
        "id": "wdzLzpzJ7Epx",
        "colab_type": "code",
        "colab": {}
      },
      "source": [
        "from sklearn.model_selection import train_test_split\n",
        "\n",
        "# Split to train \\ val\n",
        "X_train, X_val, y_train, y_val = train_test_split(X, y, random_state=1)"
      ],
      "execution_count": 0,
      "outputs": []
    },
    {
      "cell_type": "code",
      "metadata": {
        "id": "3jDbb6mZ7KD5",
        "colab_type": "code",
        "colab": {}
      },
      "source": [
        "import torch\n",
        "import torch.nn as nn\n",
        "import torch.optim as optim\n",
        "\n",
        "X_train_tensor = torch.tensor(X_train.values.reshape(-1, 1, 28, 28), dtype=torch.float32)\n",
        "y_train_tensor = torch.tensor(y_train.values, dtype=torch.int64)\n",
        "\n",
        "X_val_tensor = torch.tensor(X_val.values.reshape(-1, 1, 28, 28), dtype=torch.float32)\n",
        "y_val_tensor = torch.tensor(y_val.values, dtype=torch.int64)"
      ],
      "execution_count": 0,
      "outputs": []
    },
    {
      "cell_type": "code",
      "metadata": {
        "id": "FQoxALKD7O4o",
        "colab_type": "code",
        "colab": {}
      },
      "source": [
        "from torch.utils.data import Dataset, DataLoader\n",
        "\n",
        "class DigitDataset(Dataset):\n",
        "  \n",
        "    def __init__(self, x, y):\n",
        "        self.len = x.shape[0]\n",
        "        self.x_data = x\n",
        "        self.y_data = y\n",
        "    \n",
        "    def __getitem__(self, index):\n",
        "        return self.x_data[index], self.y_data[index]\n",
        "  \n",
        "    def __len__(self):\n",
        "        return self.len"
      ],
      "execution_count": 0,
      "outputs": []
    },
    {
      "cell_type": "code",
      "metadata": {
        "id": "c--jcxjQH13S",
        "colab_type": "code",
        "colab": {}
      },
      "source": [
        "def train_model_cnn(model, train_loader, val_loader, loss, optimizer, scheduler, num_epochs):    \n",
        "    loss_history = []\n",
        "    train_history = []\n",
        "    val_history = []\n",
        "    for epoch in range(num_epochs):\n",
        "        scheduler.step()\n",
        "        print('Epoch:', epoch,'LR:', scheduler.get_lr())\n",
        "      \n",
        "        model.train() # Enter train mode\n",
        "        \n",
        "        loss_accum = 0\n",
        "        correct_samples = 0\n",
        "        total_samples = 0\n",
        "        for i_step, (x, y) in enumerate(train_loader):\n",
        "          \n",
        "            x_gpu = x.to(device)\n",
        "            y_gpu = y.to(device)\n",
        "            prediction = model(x_gpu)    \n",
        "            loss_value = loss(prediction, y_gpu)\n",
        "            optimizer.zero_grad()\n",
        "            loss_value.backward()\n",
        "            optimizer.step()\n",
        "            \n",
        "            _, indices = torch.max(prediction, 1)\n",
        "            correct_samples += torch.sum(indices == y_gpu)\n",
        "            total_samples += y.shape[0]\n",
        "            \n",
        "            loss_accum += loss_value\n",
        "\n",
        "        ave_loss = loss_accum / i_step\n",
        "        train_accuracy = float(correct_samples) / total_samples\n",
        "        val_accuracy = compute_accuracy_cnn(model, val_loader)\n",
        "        \n",
        "        loss_history.append(float(ave_loss))\n",
        "        train_history.append(train_accuracy)\n",
        "        val_history.append(val_accuracy)\n",
        "        \n",
        "        print(\"Average loss: %f, Train accuracy: %f, Val accuracy: %f\" % (ave_loss, train_accuracy, val_accuracy))\n",
        "        \n",
        "    return loss_history, train_history, val_history\n",
        "        \n",
        "def compute_accuracy_cnn(model, loader):\n",
        "    \"\"\"\n",
        "    Computes accuracy on the dataset wrapped in a loader\n",
        "    \n",
        "    Returns: accuracy as a float value between 0 and 1\n",
        "    \"\"\"\n",
        "    model.eval() # Evaluation mode    \n",
        "    correct = 0\n",
        "    total = 0\n",
        "    for data in val_loader:\n",
        "        images, labels = data\n",
        "        images_gpu = images.to(device)\n",
        "        labels_gpu = labels.to(device)\n",
        "        \n",
        "        outputs = model(images_gpu)\n",
        "        \n",
        "        _, predicted = torch.max(outputs.data, 1)\n",
        "        total += labels_gpu.size(0)\n",
        "        correct += (predicted == labels_gpu).sum().item()\n",
        "    \n",
        "    return correct / total"
      ],
      "execution_count": 0,
      "outputs": []
    },
    {
      "cell_type": "code",
      "metadata": {
        "id": "m29gMMe1HQyA",
        "colab_type": "code",
        "colab": {}
      },
      "source": [
        "batch_size = 32\n",
        "\n",
        "train_dataset = DigitDataset(X_train_tensor, y_train_tensor)\n",
        "train_loader = DataLoader(dataset=train_dataset,\n",
        "                         batch_size=batch_size,\n",
        "                         shuffle=True)\n",
        "\n",
        "val_dataset = DigitDataset(X_val_tensor, y_val_tensor)\n",
        "val_loader = DataLoader(dataset=val_dataset,\n",
        "                         batch_size=batch_size,\n",
        "                         shuffle=True)\n",
        "\n",
        "device = torch.device(\"cuda:0\") # Let's make sure GPU is available!"
      ],
      "execution_count": 0,
      "outputs": []
    },
    {
      "cell_type": "code",
      "metadata": {
        "id": "QjSubAiUIDl5",
        "colab_type": "code",
        "colab": {}
      },
      "source": [
        "class Flattener(nn.Module):\n",
        "    def forward(self, x):\n",
        "        batch_size, *_ = x.shape\n",
        "        return x.view(batch_size, -1)"
      ],
      "execution_count": 0,
      "outputs": []
    },
    {
      "cell_type": "code",
      "metadata": {
        "id": "dYECkyUvH-lh",
        "colab_type": "code",
        "colab": {}
      },
      "source": [
        "from torch.optim.lr_scheduler import StepLR\n",
        "\n",
        "nn_model_cnn = nn.Sequential(\n",
        "            nn.Conv2d(1, 64, 3, padding=1),\n",
        "            nn.ReLU(inplace=True),\n",
        "            nn.MaxPool2d(2),\n",
        "            nn.Conv2d(64, 64, 3, padding=1),\n",
        "            nn.ReLU(inplace=True),\n",
        "            nn.MaxPool2d(2),\n",
        "            Flattener(),\n",
        "            nn.Linear(64*7*7, 100),\n",
        "            nn.BatchNorm1d(100),\n",
        "            nn.ReLU(),\n",
        "            nn.Linear(100, 10), \n",
        "         )\n",
        "\n",
        "nn_model_cnn.type(torch.cuda.FloatTensor)\n",
        "\n",
        "loss = nn.CrossEntropyLoss().type(torch.cuda.FloatTensor)\n",
        "optimizer = optim.SGD(nn_model_cnn.parameters(), lr=1e-2, weight_decay=1e-1)\n",
        "sched = StepLR(optimizer, step_size=2, gamma=0.5)"
      ],
      "execution_count": 0,
      "outputs": []
    },
    {
      "cell_type": "code",
      "metadata": {
        "id": "N1Hue4B2IPs_",
        "colab_type": "code",
        "colab": {}
      },
      "source": [
        "loss_history, train_history, val_history = train_model_cnn(nn_model_cnn, train_loader, val_loader, loss, optimizer, sched, 10)"
      ],
      "execution_count": 0,
      "outputs": []
    },
    {
      "cell_type": "markdown",
      "metadata": {
        "id": "yIig7aC_ITmP",
        "colab_type": "text"
      },
      "source": [
        "Apply model to test dataset"
      ]
    },
    {
      "cell_type": "code",
      "metadata": {
        "id": "syO3BQdlK8eL",
        "colab_type": "code",
        "colab": {}
      },
      "source": [
        "class TestDataSet(Dataset):\n",
        "  \n",
        "    def __init__(self, x):\n",
        "        self.len = x.shape[0]\n",
        "        self.x_data = x\n",
        "    \n",
        "    def __getitem__(self, index):\n",
        "        return index, self.x_data[index]\n",
        "  \n",
        "    def __len__(self):\n",
        "        return self.len"
      ],
      "execution_count": 0,
      "outputs": []
    },
    {
      "cell_type": "code",
      "metadata": {
        "id": "p5PnX6B9IdWe",
        "colab_type": "code",
        "colab": {}
      },
      "source": [
        "test_data = pd.read_csv(\"/gdrive/My Drive/data/digit-recognizer/test.csv\")\n",
        "test_data = test_data / 255\n",
        "\n",
        "test_data_tensor = torch.tensor(test_data.values.reshape(-1, 1, 28, 28), dtype=torch.float32)\n",
        "\n",
        "test_dataset = TestDataSet(test_data_tensor)\n",
        "test_loader = DataLoader(dataset=test_dataset,\n",
        "                         batch_size=batch_size,\n",
        "                         shuffle=True)\n",
        "\n",
        "predictions = {}\n",
        "for i, x in test_loader:\n",
        "\n",
        "    x_gpu = x.to(device)\n",
        "    prediction = nn_model_cnn(x_gpu)\n",
        "  \n",
        "    _, indices = torch.max(prediction, 1)\n",
        "\n",
        "    # convert to dict\n",
        "    i = i + 1\n",
        "    pred_dict = dict(zip(i.tolist(), indices.tolist()))\n",
        "    predictions.update(pred_dict)\n",
        "\n",
        "# sort by keys\n",
        "predictions = sorted(predictions.items())\n",
        "\n",
        "df = pd.DataFrame(predictions, columns=[\"ImageId\", \"Label\"])\n",
        "df.to_csv(\"/content/sample_submission.csv\", index=False)"
      ],
      "execution_count": 0,
      "outputs": []
    }
  ]
}